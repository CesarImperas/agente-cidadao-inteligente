{
  "nbformat": 4,
  "nbformat_minor": 0,
  "metadata": {
    "colab": {
      "provenance": []
    },
    "kernelspec": {
      "name": "python3",
      "display_name": "Python 3"
    },
    "language_info": {
      "name": "python"
    }
  },
  "cells": [
    {
      "cell_type": "markdown",
      "source": [
        "# 👮 Agente Cidadão Inteligente - ACI\n",
        "\n",
        "### 👉 Sistema de alerta e informação sobre recursos e serviços sociais\n",
        "\n",
        "---\n",
        "\n",
        "#### O **Agente Cidadão Inteligente (ACI)** é um ChatBot desenvolvido com o propósito de democratizar o acesso à informação sobre recursos e serviços sociais cruciais para os cidadãos de diversas regiões do Brasil. Buscamos fornecer detalhes sobre a **disponibilidade**, **localização** e **formas de acesso** a serviços nas áreas de saúde, assistência social, educação e muito mais. Através de uma interface conversacional intuitiva, o ACI se torna uma ferramenta poderosa para conectar as pessoas aos recursos de que necessitam, promovendo assim um maior bem-estar e inclusão social em nossa comunidade.  \n",
        "Para mais detalhes, siga as instruções do README, presente no repositório do [**GitHub**](https://github.com/CesarImperas/acesso-cidadao-inteligente).\n",
        "\n",
        "---\n",
        "Desenvolvido por [**Caio Cesar Vieira**](https://www.linkedin.com/in/caiocesarvieira/)  \n",
        "Com ajuda do [**Google Gemini**](https://gemini.google.com/app?hl=pt-PT)  \n",
        "Em parceria com a \"Imersão IA Alura + Google Gemini\" ([**Alura**](https://www.alura.com.br/))\n",
        "\n",
        "---\n",
        "**Versão**: $1.0$\n",
        "\n",
        "---"
      ],
      "metadata": {
        "id": "TqWs0mODK3g5"
      }
    },
    {
      "cell_type": "markdown",
      "source": [
        "### Inicialização do Ambiente de Execução\n",
        "* Importação de bibliotecas importantes como `os`, `google-genai`, `google-adk` e `IPython` (`display` e `Markdown`).\n",
        "* Inicialização das funções utilizadas pelo ChatBot ACI"
      ],
      "metadata": {
        "id": "SFMoNDW5Sw1W"
      }
    },
    {
      "cell_type": "code",
      "source": [
        "%pip install -q google-genai google-adk"
      ],
      "metadata": {
        "colab": {
          "base_uri": "https://localhost:8080/"
        },
        "collapsed": true,
        "id": "ABPzTR2sUAXL",
        "outputId": "85a2c717-250d-483b-dcc8-5b824a9996ec"
      },
      "execution_count": null,
      "outputs": [
        {
          "output_type": "stream",
          "name": "stdout",
          "text": [
            "\u001b[?25l   \u001b[90m━━━━━━━━━━━━━━━━━━━━━━━━━━━━━━━━━━━━━━━━\u001b[0m \u001b[32m0.0/1.2 MB\u001b[0m \u001b[31m?\u001b[0m eta \u001b[36m-:--:--\u001b[0m\r\u001b[2K   \u001b[91m━━━━━━━━━━━━━━━━━━━━━━━━━━━━━━━━━━━━━━━\u001b[0m\u001b[91m╸\u001b[0m \u001b[32m1.2/1.2 MB\u001b[0m \u001b[31m51.4 MB/s\u001b[0m eta \u001b[36m0:00:01\u001b[0m\r\u001b[2K   \u001b[90m━━━━━━━━━━━━━━━━━━━━━━━━━━━━━━━━━━━━━━━━\u001b[0m \u001b[32m1.2/1.2 MB\u001b[0m \u001b[31m23.4 MB/s\u001b[0m eta \u001b[36m0:00:00\u001b[0m\n",
            "\u001b[?25h\u001b[?25l   \u001b[90m━━━━━━━━━━━━━━━━━━━━━━━━━━━━━━━━━━━━━━━━\u001b[0m \u001b[32m0.0/232.1 kB\u001b[0m \u001b[31m?\u001b[0m eta \u001b[36m-:--:--\u001b[0m\r\u001b[2K   \u001b[90m━━━━━━━━━━━━━━━━━━━━━━━━━━━━━━━━━━━━━━━━\u001b[0m \u001b[32m232.1/232.1 kB\u001b[0m \u001b[31m16.8 MB/s\u001b[0m eta \u001b[36m0:00:00\u001b[0m\n",
            "\u001b[?25h\u001b[?25l   \u001b[90m━━━━━━━━━━━━━━━━━━━━━━━━━━━━━━━━━━━━━━━━\u001b[0m \u001b[32m0.0/95.2 kB\u001b[0m \u001b[31m?\u001b[0m eta \u001b[36m-:--:--\u001b[0m\r\u001b[2K   \u001b[90m━━━━━━━━━━━━━━━━━━━━━━━━━━━━━━━━━━━━━━━━\u001b[0m \u001b[32m95.2/95.2 kB\u001b[0m \u001b[31m7.9 MB/s\u001b[0m eta \u001b[36m0:00:00\u001b[0m\n",
            "\u001b[?25h\u001b[?25l   \u001b[90m━━━━━━━━━━━━━━━━━━━━━━━━━━━━━━━━━━━━━━━━\u001b[0m \u001b[32m0.0/217.1 kB\u001b[0m \u001b[31m?\u001b[0m eta \u001b[36m-:--:--\u001b[0m\r\u001b[2K   \u001b[90m━━━━━━━━━━━━━━━━━━━━━━━━━━━━━━━━━━━━━━━━\u001b[0m \u001b[32m217.1/217.1 kB\u001b[0m \u001b[31m9.1 MB/s\u001b[0m eta \u001b[36m0:00:00\u001b[0m\n",
            "\u001b[2K   \u001b[90m━━━━━━━━━━━━━━━━━━━━━━━━━━━━━━━━━━━━━━━━\u001b[0m \u001b[32m334.1/334.1 kB\u001b[0m \u001b[31m16.2 MB/s\u001b[0m eta \u001b[36m0:00:00\u001b[0m\n",
            "\u001b[2K   \u001b[90m━━━━━━━━━━━━━━━━━━━━━━━━━━━━━━━━━━━━━━━━\u001b[0m \u001b[32m125.1/125.1 kB\u001b[0m \u001b[31m7.4 MB/s\u001b[0m eta \u001b[36m0:00:00\u001b[0m\n",
            "\u001b[2K   \u001b[90m━━━━━━━━━━━━━━━━━━━━━━━━━━━━━━━━━━━━━━━━\u001b[0m \u001b[32m65.8/65.8 kB\u001b[0m \u001b[31m4.0 MB/s\u001b[0m eta \u001b[36m0:00:00\u001b[0m\n",
            "\u001b[2K   \u001b[90m━━━━━━━━━━━━━━━━━━━━━━━━━━━━━━━━━━━━━━━━\u001b[0m \u001b[32m119.0/119.0 kB\u001b[0m \u001b[31m5.5 MB/s\u001b[0m eta \u001b[36m0:00:00\u001b[0m\n",
            "\u001b[2K   \u001b[90m━━━━━━━━━━━━━━━━━━━━━━━━━━━━━━━━━━━━━━━━\u001b[0m \u001b[32m194.9/194.9 kB\u001b[0m \u001b[31m8.6 MB/s\u001b[0m eta \u001b[36m0:00:00\u001b[0m\n",
            "\u001b[2K   \u001b[90m━━━━━━━━━━━━━━━━━━━━━━━━━━━━━━━━━━━━━━━━\u001b[0m \u001b[32m62.5/62.5 kB\u001b[0m \u001b[31m1.2 MB/s\u001b[0m eta \u001b[36m0:00:00\u001b[0m\n",
            "\u001b[2K   \u001b[90m━━━━━━━━━━━━━━━━━━━━━━━━━━━━━━━━━━━━━━━━\u001b[0m \u001b[32m103.3/103.3 kB\u001b[0m \u001b[31m7.2 MB/s\u001b[0m eta \u001b[36m0:00:00\u001b[0m\n",
            "\u001b[2K   \u001b[90m━━━━━━━━━━━━━━━━━━━━━━━━━━━━━━━━━━━━━━━━\u001b[0m \u001b[32m44.4/44.4 kB\u001b[0m \u001b[31m2.5 MB/s\u001b[0m eta \u001b[36m0:00:00\u001b[0m\n",
            "\u001b[2K   \u001b[90m━━━━━━━━━━━━━━━━━━━━━━━━━━━━━━━━━━━━━━━━\u001b[0m \u001b[32m72.0/72.0 kB\u001b[0m \u001b[31m4.7 MB/s\u001b[0m eta \u001b[36m0:00:00\u001b[0m\n",
            "\u001b[?25h"
          ]
        }
      ]
    },
    {
      "cell_type": "code",
      "source": [
        "import os\n",
        "from google.colab import userdata\n",
        "from google import genai\n",
        "from google.adk.agents import Agent\n",
        "from google.adk.runners import Runner\n",
        "from google.adk.sessions import InMemorySessionService\n",
        "from google.adk.tools import google_search\n",
        "from google.genai import types\n",
        "\n",
        "from IPython.display import display, Markdown\n",
        "\n",
        "import requests\n",
        "import warnings\n",
        "\n",
        "warnings.filterwarnings(\"ignore\")\n",
        "\n",
        "# Configurar a API Key\n",
        "os.environ[\"GOOGLE_API_KEY\"] = userdata.get('GOOGLE_API_KEY')"
      ],
      "metadata": {
        "id": "MOhdHNeHSwEF"
      },
      "execution_count": null,
      "outputs": []
    },
    {
      "cell_type": "code",
      "source": [
        "# Função auxiliar para exibir texto formatado em Markdown no Colab\n",
        "def to_markdown(text):\n",
        "  text = text.replace('•', '  *')\n",
        "  return Markdown(text)\n",
        "\n",
        "# Função para exibir mensagens formatadas\n",
        "def exibir_mensagem(role=None, texto=\"\"):\n",
        "    if role == \"Você\":\n",
        "        display(Markdown(f\"###**😃 Você:** {texto}\"))\n",
        "    elif role == \"ACI\":\n",
        "        display(to_markdown(f\"###**👮 ACI:** {texto}\"))\n",
        "    else:\n",
        "        display(Markdown(texto))\n",
        "\n",
        "# --- Agente ACI ---\n",
        "def agente_ci(localizacao):\n",
        "    agente = Agent(\n",
        "        name=\"agente_cidadao_inteligente\",\n",
        "        model=\"gemini-2.5-flash-preview-04-17-thinking\", # Modelo Gemini - em casos de falha, use o modelo \"gemini-2.0-flash\"\n",
        "        description=f\"Agente especializado em informações sobre serviços sociais em {localizacao}.\",\n",
        "        instruction=f\"\"\"\n",
        "            Você é um agente de informações sobre serviços sociais em {localizacao}.\n",
        "            Sua tarefa é fornecer aos usuários detalhes precisos e atualizados sobre os serviços que eles solicitam.\n",
        "            Use a ferramenta de busca do Google (google_search) para encontrar informações como:\n",
        "            - Endereços e contatos dos locais que oferecem o serviço.\n",
        "            - Horários de funcionamento.\n",
        "            - Documentos necessários.\n",
        "            - Critérios de elegibilidade.\n",
        "            - Outras informações relevantes.\n",
        "            Responda de forma clara, concisa e amigável. Insira emojis que facilitem a compreensão do usuário, em determinada resposta.\n",
        "            Se não encontrar a informação, informe ao usuário que você fará o possível para ajudar de outras formas.\n",
        "            Insira links de referência para confiabilidade ou consultas por parte do usuário.\n",
        "        \"\"\",\n",
        "        tools=[google_search]\n",
        "    )\n",
        "    return agente\n",
        "\n",
        "# Função auxiliar que envia uma mensagem para um agente via Runner e retorna a resposta final\n",
        "def call_agent(agent: Agent, message_text: str) -> str:\n",
        "    session_service = InMemorySessionService()\n",
        "    session = session_service.create_session(app_name=agent.name, user_id=\"user1\", session_id=\"session1\")\n",
        "    runner = Runner(agent=agent, app_name=agent.name, session_service=session_service)\n",
        "    content = types.Content(role=\"user\", parts=[types.Part(text=message_text)])\n",
        "\n",
        "    final_response = \"\"\n",
        "    sources_response = \"\"\n",
        "\n",
        "    for event in runner.run(user_id=\"user1\", session_id=\"session1\", new_message=content):\n",
        "        if event.is_final_response():\n",
        "            for part in event.content.parts:\n",
        "                if part.text is not None:\n",
        "                    final_response += part.text\n",
        "                    final_response += \"\\n\"\n",
        "        elif event.name == \"tool_call\":\n",
        "            for tool_call in event.tool_calls:\n",
        "                if tool_call.tool_name == \"google_search\":\n",
        "                    search_result = tool_call.result\n",
        "                    if search_result and search_result.results:\n",
        "                        sources_response += \"\\n**Referências:**\\n\"\n",
        "                        for result in search_result.results:\n",
        "                            sources_response += f\"[{result.title}]({result.url})\\n\"\n",
        "    return final_response + sources_response"
      ],
      "metadata": {
        "id": "FMSRQpriQT71"
      },
      "execution_count": null,
      "outputs": []
    },
    {
      "cell_type": "markdown",
      "source": [
        "### Vamos conversar com o ACI❓❗"
      ],
      "metadata": {
        "id": "CTSqB7FcbgMJ"
      }
    },
    {
      "cell_type": "code",
      "source": [
        "# Função principal para executar o chat\n",
        "def executar_chat_aci():\n",
        "    \"\"\"\n",
        "    Executa o chat do Agente Cidadão Inteligente.\n",
        "\n",
        "    Função principal, com entrada e saída, formatadas com o padrão Markdown.\n",
        "    \"\"\"\n",
        "\n",
        "    # Esperando uma localização (válida) do usuário para início do agente ACI\n",
        "    exibir_mensagem(texto=\"Por favor, insira a sua localização: \")\n",
        "    localizacao = input().strip()\n",
        "\n",
        "    # Tratamento com localização vazia\n",
        "    if not localizacao:\n",
        "      exibir_mensagem(\"ACI\", \"Entrada vazia ou inválida. Tente novamente!\")\n",
        "      return\n",
        "\n",
        "\n",
        "    exibir_mensagem(texto=\"## 👮🧠 Bem-vindo ao Agente Cidadão Inteligente (ACI)\")\n",
        "    exibir_mensagem(texto=f\"###Estou aqui para te ajudar com informações sobre serviços sociais em {localizacao}.\")\n",
        "\n",
        "    exibir_mensagem(texto=\"###❓ Como posso te ajudar hoje?  \")\n",
        "\n",
        "    # Instanciar o agente\n",
        "    agente_ci_var = agente_ci(localizacao)\n",
        "    contexto_conversa = []\n",
        "    MAX_CONTEXTO = 10\n",
        "\n",
        "    while True:\n",
        "        exibir_mensagem(role=\"Você\")\n",
        "        mensagem_usuario = input().strip()\n",
        "\n",
        "        # Tratamento com mensagem do usuário vazia\n",
        "        if not mensagem_usuario:\n",
        "          exibir_mensagem(\"ACI\", \"Entrada vazia ou inválida. Tente novamente!\")\n",
        "          continue\n",
        "\n",
        "        # Sair da conversação\n",
        "        if mensagem_usuario.lower() in [\"sair\", \"encerrar\", \"fim\", \"tchau\", \"xau\", \"valeu\", \"vlw\"]:\n",
        "            exibir_mensagem(\"ACI\", \"Ok, encerrando o chat. Espero ter ajudado!\")\n",
        "            break\n",
        "\n",
        "        resposta_agente = call_agent(agente_ci_var, mensagem_usuario)\n",
        "        exibir_mensagem(\"ACI\", resposta_agente)\n",
        "\n",
        "        # Adicionar a interação ao contexto\n",
        "        contexto_conversa.append({\"role\": \"user\", \"content\": mensagem_usuario})\n",
        "        contexto_conversa.append({\"role\": \"ACI\", \"content\": resposta_agente})\n",
        "\n",
        "        # Limitar o tamanho do contexto - Histórico\n",
        "        if len(contexto_conversa) > MAX_CONTEXTO:\n",
        "            contexto_conversa.pop(0)\n",
        "            contexto_conversa.pop(0)\n",
        "\n",
        "# Executar o chat\n",
        "if __name__ == \"__main__\":\n",
        "    exibir_mensagem(texto=\"🚀 Iniciando o chat com o Agente Cidadão Inteligente! 🚀\")\n",
        "    executar_chat_aci()"
      ],
      "metadata": {
        "id": "3uzfAnBhbvOM"
      },
      "execution_count": null,
      "outputs": []
    }
  ]
}